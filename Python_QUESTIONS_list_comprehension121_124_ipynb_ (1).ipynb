{
  "nbformat": 4,
  "nbformat_minor": 0,
  "metadata": {
    "colab": {
      "provenance": []
    },
    "kernelspec": {
      "name": "python3",
      "display_name": "Python 3"
    },
    "language_info": {
      "name": "python"
    }
  },
  "cells": [
    {
      "cell_type": "code",
      "source": [
        "#Q125. Write a python program to reverse a list using slicing.\n",
        "my=[1,23,4,5,698]\n",
        "\n",
        "my[::-1]"
      ],
      "metadata": {
        "colab": {
          "base_uri": "https://localhost:8080/"
        },
        "id": "64z707ppm46R",
        "outputId": "0473d9d9-331d-4358-978a-636c58f842b5"
      },
      "execution_count": null,
      "outputs": [
        {
          "output_type": "execute_result",
          "data": {
            "text/plain": [
              "[698, 5, 4, 23, 1]"
            ]
          },
          "metadata": {},
          "execution_count": 20
        }
      ]
    },
    {
      "cell_type": "code",
      "source": [
        "#Q126. Write a python program to get every third element from a list using\n",
        "#slicing.\n",
        "\n",
        "l=[1,2,3,4,5,6,7,8,9,10,11,12,13,14,15]\n",
        "\n",
        "c=l[2::3]\n",
        "print(c)"
      ],
      "metadata": {
        "colab": {
          "base_uri": "https://localhost:8080/"
        },
        "id": "Fl04JEZKnHVh",
        "outputId": "49dac2f6-d07a-4154-dcf2-5b902a3999f8"
      },
      "execution_count": null,
      "outputs": [
        {
          "output_type": "stream",
          "name": "stdout",
          "text": [
            "[3, 6, 9, 12, 15]\n"
          ]
        }
      ]
    },
    {
      "cell_type": "code",
      "source": [
        "#Q127. Implement a python program to split a list into two equal parts using\n",
        "#slicing. One list should contain 1st half and another list should contain 2nd\n",
        "#half.\n",
        "\n"
      ],
      "metadata": {
        "id": "lIxF1yunn-L3"
      },
      "execution_count": null,
      "outputs": []
    },
    {
      "cell_type": "code",
      "source": [
        "#Q128. Implement a python program to get the last 'n' elements from a list\n",
        "#using slicing.\n",
        "\n",
        "\n",
        "l=[1,2,3,4,5,6,7,8,9,1,0]\n",
        "\n",
        "n=int(input())\n",
        "\n",
        "c=l[-n:]\n",
        "\n",
        "print(c)"
      ],
      "metadata": {
        "colab": {
          "base_uri": "https://localhost:8080/"
        },
        "id": "rrukqud8ZA8a",
        "outputId": "597726f0-c5dd-42e9-f599-4cbee224ac96"
      },
      "execution_count": 5,
      "outputs": [
        {
          "output_type": "stream",
          "name": "stdout",
          "text": [
            "3\n",
            "[9, 1, 0]\n"
          ]
        }
      ]
    },
    {
      "cell_type": "code",
      "source": [
        "#Q129. Ask ‘n’ from user. Create a list of last n elements but in reverse order\n",
        "#using slicing.\n",
        "\n",
        "l=[1,2,3,4,5,6,7,8,9,1,0]\n",
        "\n",
        "n=int(input())\n",
        "\n",
        "c=l[-1:-n-1:-1]\n",
        "\n",
        "print(c)\n"
      ],
      "metadata": {
        "colab": {
          "base_uri": "https://localhost:8080/"
        },
        "id": "pe44QA7kZBBX",
        "outputId": "7aba3108-6db8-48fe-a39f-8b90c712fdf6"
      },
      "execution_count": 7,
      "outputs": [
        {
          "output_type": "stream",
          "name": "stdout",
          "text": [
            "5\n",
            "[0, 1, 9, 8, 7]\n"
          ]
        }
      ]
    },
    {
      "cell_type": "code",
      "source": [
        "#Q130. Ask start and end index from the user. Create a list from start index\n",
        "#to end index using slicing.\n",
        "\n",
        "s=int(input())\n",
        "e=int(input())\n",
        "\n",
        "l=[1,2,3,4,5,6,7,8,9,1,0]\n",
        "\n",
        "c=l[s:e]\n",
        "\n",
        "print(c)"
      ],
      "metadata": {
        "colab": {
          "base_uri": "https://localhost:8080/"
        },
        "id": "JcrEGRs3aJpb",
        "outputId": "fafd8a98-4ee4-4395-af33-50720898c454"
      },
      "execution_count": 9,
      "outputs": [
        {
          "output_type": "stream",
          "name": "stdout",
          "text": [
            "1\n",
            "5\n",
            "[2, 3, 4, 5]\n"
          ]
        }
      ]
    }
  ]
}