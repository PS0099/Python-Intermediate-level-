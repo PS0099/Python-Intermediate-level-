{
  "nbformat": 4,
  "nbformat_minor": 0,
  "metadata": {
    "colab": {
      "provenance": []
    },
    "kernelspec": {
      "name": "python3",
      "display_name": "Python 3"
    },
    "language_info": {
      "name": "python"
    }
  },
  "cells": [
    {
      "cell_type": "code",
      "source": [
        "#Q42. Ask a number from user. Print all the numbers from 1 to that number\n",
        "\n",
        "n=int(input(\"Enter the number :\"))\n",
        "i=1\n",
        "while i <= n:\n",
        "  print(i)\n",
        "  i=i+1"
      ],
      "metadata": {
        "colab": {
          "base_uri": "https://localhost:8080/"
        },
        "id": "c5Gnlv7tN1Ak",
        "outputId": "fe1e5d76-84e4-4aba-f81a-ab75a3470634"
      },
      "execution_count": 3,
      "outputs": [
        {
          "output_type": "stream",
          "name": "stdout",
          "text": [
            "Enter the number20\n",
            "1\n",
            "2\n",
            "3\n",
            "4\n",
            "5\n",
            "6\n",
            "7\n",
            "8\n",
            "9\n",
            "10\n",
            "11\n",
            "12\n",
            "13\n",
            "14\n",
            "15\n",
            "16\n",
            "17\n",
            "18\n",
            "19\n",
            "20\n"
          ]
        }
      ]
    },
    {
      "cell_type": "code",
      "source": [
        "#Q43. Ask a number (N) from user. Print all the numbers from N to 1.\n",
        "\n",
        "n=int(input(\"Enter the number :\"))\n",
        "\n",
        "i=1\n",
        "\n",
        "while i <= n:\n",
        "  print(n)\n",
        "  n=n-1\n"
      ],
      "metadata": {
        "colab": {
          "base_uri": "https://localhost:8080/"
        },
        "id": "w5w89UD0OIkZ",
        "outputId": "97fc7fb4-f627-4f60-9fe0-6b74e21ea2a3"
      },
      "execution_count": 5,
      "outputs": [
        {
          "output_type": "stream",
          "name": "stdout",
          "text": [
            "Enter the number :20\n",
            "20\n",
            "19\n",
            "18\n",
            "17\n",
            "16\n",
            "15\n",
            "14\n",
            "13\n",
            "12\n",
            "11\n",
            "10\n",
            "9\n",
            "8\n",
            "7\n",
            "6\n",
            "5\n",
            "4\n",
            "3\n",
            "2\n",
            "1\n"
          ]
        }
      ]
    },
    {
      "cell_type": "code",
      "source": [
        "#Q44. Ask start number and end number from user. Print all the numbers\n",
        "#from start to end using while loop.\n",
        "\n",
        "s=int(input(\"Enter the number :\"))\n",
        "e=int(input(\"Enter the number :\"))\n",
        "\n",
        "while s <=e:\n",
        "  print(s)\n",
        "  s=s+1"
      ],
      "metadata": {
        "colab": {
          "base_uri": "https://localhost:8080/"
        },
        "id": "gzQz70FWOkT4",
        "outputId": "814c39f9-93d4-4ec2-96f2-9a2713516138"
      },
      "execution_count": 6,
      "outputs": [
        {
          "output_type": "stream",
          "name": "stdout",
          "text": [
            "Enter the number :1\n",
            "Enter the number :10\n",
            "1\n",
            "2\n",
            "3\n",
            "4\n",
            "5\n",
            "6\n",
            "7\n",
            "8\n",
            "9\n",
            "10\n"
          ]
        }
      ]
    },
    {
      "cell_type": "code",
      "source": [
        "#Q45. Calculate the sum of all the numbers from 1 to 10.\n",
        "\n",
        "sum=0\n",
        "i=1\n",
        "while i <= 10:\n",
        "  sum=sum+i\n",
        "  i=i+1\n",
        "print(sum)\n"
      ],
      "metadata": {
        "colab": {
          "base_uri": "https://localhost:8080/"
        },
        "id": "IsII7U-JO87U",
        "outputId": "55c2bd3b-46e7-4a9a-e702-a831eeac6a59"
      },
      "execution_count": 9,
      "outputs": [
        {
          "output_type": "stream",
          "name": "stdout",
          "text": [
            "55\n"
          ]
        }
      ]
    },
    {
      "cell_type": "code",
      "source": [
        "#Q46. Calculate product of all the numbers from 1 to 10\n",
        "pr=1\n",
        "i=1\n",
        "while i <= 10:\n",
        "  pr=pr*i\n",
        "  i=i+1\n",
        "print(pr)\n"
      ],
      "metadata": {
        "colab": {
          "base_uri": "https://localhost:8080/"
        },
        "id": "OtAhX1eoPcDA",
        "outputId": "329bd5d4-897b-4e7a-d570-fd4480a9e529"
      },
      "execution_count": 10,
      "outputs": [
        {
          "output_type": "stream",
          "name": "stdout",
          "text": [
            "3628800\n"
          ]
        }
      ]
    },
    {
      "cell_type": "code",
      "source": [
        "#Q47. Calculate how many numbers are divisible by 7 from 1 to 100.\n",
        "\n",
        "count=0\n",
        "i=1\n",
        "while i<=100:\n",
        "  if i%7==0:\n",
        "    count=count+1\n",
        "  i=i+1\n",
        "print(count)"
      ],
      "metadata": {
        "colab": {
          "base_uri": "https://localhost:8080/"
        },
        "id": "5tAHSGTQPolK",
        "outputId": "a564c7d7-89a4-4442-98a9-454fc4ba94a1"
      },
      "execution_count": 11,
      "outputs": [
        {
          "output_type": "stream",
          "name": "stdout",
          "text": [
            "14\n"
          ]
        }
      ]
    },
    {
      "cell_type": "code",
      "source": [
        "#Q48. Calculate how many numbers are divisible by both 6 and 7 between 1\n",
        "#to 200.\n",
        "\n",
        "\n",
        "count=0\n",
        "i=1\n",
        "while i<=200:\n",
        "  if i%7==0 and i%6==0:\n",
        "    count=count+1\n",
        "  i=i+1\n",
        "print(count)"
      ],
      "metadata": {
        "colab": {
          "base_uri": "https://localhost:8080/"
        },
        "id": "SSJ99m__QCgI",
        "outputId": "3b1fdb7b-6aed-42d6-d79a-0b36ab360c85"
      },
      "execution_count": 12,
      "outputs": [
        {
          "output_type": "stream",
          "name": "stdout",
          "text": [
            "4\n"
          ]
        }
      ]
    },
    {
      "cell_type": "code",
      "source": [
        "#Q49. Write a program to calculate the sum of all the numbers divisible by 4\n",
        "#from 20 to 50.\n",
        "\n",
        "\n",
        "count=0\n",
        "sum=0\n",
        "i=20\n",
        "while i<=50:\n",
        "  if i%4==00:\n",
        "    count=count+1\n",
        "    sum=sum+i\n",
        "  i=i+1\n",
        "print(\"count of numbers are divisible 4 from 20 to 50 is :\",count)\n",
        "print(\"sum of numbers are divisible 4 from 20 to 50 is :\",sum)"
      ],
      "metadata": {
        "colab": {
          "base_uri": "https://localhost:8080/"
        },
        "id": "MFjftTq1QM-f",
        "outputId": "4da75ca4-245e-41b2-84dd-c4cff1a46db0"
      },
      "execution_count": 14,
      "outputs": [
        {
          "output_type": "stream",
          "name": "stdout",
          "text": [
            "count of numbers are divisible 4 from 20 to 50 is : 8\n",
            "sum of numbers are divisible 4 from 20 to 50 is : 272\n"
          ]
        }
      ]
    },
    {
      "cell_type": "code",
      "source": [
        "'''Q51. Ask a number from user. Print the multiplication table of that number.\n",
        "Example\n",
        "Enter a number = 8\n",
        "8 x 1 = 8\n",
        "8 x 2 = 16\n",
        "8 x 3 = 24\n",
        ".....\n",
        "8 x 10 = 80'''"
      ],
      "metadata": {
        "id": "0-J9XNNwQ6mx"
      },
      "execution_count": null,
      "outputs": []
    },
    {
      "cell_type": "code",
      "source": [
        "n=int(input(\"Enter the number :\"))\n",
        "i=1\n",
        "while i<=10:\n",
        "  print(i*n)\n",
        "  i=i+1"
      ],
      "metadata": {
        "colab": {
          "base_uri": "https://localhost:8080/"
        },
        "id": "DX_x5qWMQ_g1",
        "outputId": "342255c8-2733-4230-bdc8-d8cd928ec33a"
      },
      "execution_count": 17,
      "outputs": [
        {
          "output_type": "stream",
          "name": "stdout",
          "text": [
            "Enter the number :8\n",
            "8\n",
            "16\n",
            "24\n",
            "32\n",
            "40\n",
            "48\n",
            "56\n",
            "64\n",
            "72\n",
            "80\n"
          ]
        }
      ]
    },
    {
      "cell_type": "code",
      "source": [
        "'''Q52. Calculate factorial of a number entered by user.\n",
        "Example:\n",
        "Enter a number = 5\n",
        "Factorial of a number means product of all the numbers from 1 to that\n",
        "number.\n",
        "5 factorial = 5 x 4 x 3 x 2 x 1\n",
        "Output = 120'''"
      ],
      "metadata": {
        "id": "2GI4nCLGRdYl"
      },
      "execution_count": null,
      "outputs": []
    },
    {
      "cell_type": "code",
      "source": [
        "n=int(input(\"Enter the number :\"))\n",
        "i=1\n",
        "while i >1:\n",
        "  n*i\n",
        "  n=n-1\n",
        "print(i)"
      ],
      "metadata": {
        "colab": {
          "base_uri": "https://localhost:8080/"
        },
        "id": "TKks58EnRgdB",
        "outputId": "2459833a-1379-4037-94bf-ac9a39ffc477"
      },
      "execution_count": 25,
      "outputs": [
        {
          "output_type": "stream",
          "name": "stdout",
          "text": [
            "Enter the number :5\n",
            "1\n"
          ]
        }
      ]
    }
  ]
}