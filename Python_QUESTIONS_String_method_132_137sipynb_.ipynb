{
  "nbformat": 4,
  "nbformat_minor": 0,
  "metadata": {
    "colab": {
      "provenance": []
    },
    "kernelspec": {
      "name": "python3",
      "display_name": "Python 3"
    },
    "language_info": {
      "name": "python"
    }
  },
  "cells": [
    {
      "cell_type": "code",
      "source": [
        "#Q132. Ask a string from user. Count how many alphabets are there in that\n",
        "#string.\n",
        "p=\"Prajwal\"\n",
        "count=0\n",
        "for i in p:\n",
        "  count=count+1\n",
        "print(\"count of alphbets is :\",count)"
      ],
      "metadata": {
        "colab": {
          "base_uri": "https://localhost:8080/"
        },
        "id": "FmNLRHSMfEBk",
        "outputId": "1fc3ae99-00d9-4196-eed4-e15cf5c140a0"
      },
      "execution_count": null,
      "outputs": [
        {
          "output_type": "stream",
          "name": "stdout",
          "text": [
            "count of alphbets is : 7\n"
          ]
        }
      ]
    },
    {
      "cell_type": "code",
      "source": [
        "#Q133. Ask a string from user. Count the number of uppercase and\n",
        "#lowercase characters in that String.\n",
        "\n",
        "sr=\"Prajwal Arvind Shekokar\"\n",
        "upper=[i for i in sr if i.isupper()]\n",
        "lower=[i for i in sr if i.islower()]\n",
        "\n",
        "print(upper)\n",
        "print(lower)"
      ],
      "metadata": {
        "colab": {
          "base_uri": "https://localhost:8080/"
        },
        "id": "IFnqN2Q6fiQm",
        "outputId": "b495c7cc-ce02-410c-9667-8fc7a8518b52"
      },
      "execution_count": null,
      "outputs": [
        {
          "output_type": "stream",
          "name": "stdout",
          "text": [
            "['P', 'A', 'S']\n",
            "['r', 'a', 'j', 'w', 'a', 'l', 'r', 'v', 'i', 'n', 'd', 'h', 'e', 'k', 'o', 'k', 'a', 'r']\n"
          ]
        }
      ]
    },
    {
      "cell_type": "code",
      "source": [
        "#Q134. Ask a string from user. Convert all the alphabets to uppercase.\n",
        "sr=\"Prajwal Arvind Shekokar\"\n",
        "\n",
        "p=sr.upper()\n",
        "print(p)"
      ],
      "metadata": {
        "colab": {
          "base_uri": "https://localhost:8080/"
        },
        "id": "QwFewnIdh5HK",
        "outputId": "a40325e4-bf18-4f27-ea66-58d44972915b"
      },
      "execution_count": null,
      "outputs": [
        {
          "output_type": "stream",
          "name": "stdout",
          "text": [
            "PRAJWAL ARVIND SHEKOKAR\n"
          ]
        }
      ]
    },
    {
      "cell_type": "code",
      "source": [
        "#Q134. Ask a string from user. Convert all the alphabets to lowercase. (Do\n",
        "#on your own)\n",
        "\n",
        "sr=\"Prajwal Arvind Shekokar\"\n",
        "\n",
        "p=sr.lower()\n",
        "print(p)"
      ],
      "metadata": {
        "colab": {
          "base_uri": "https://localhost:8080/"
        },
        "id": "ihIUUqkkiCp1",
        "outputId": "5ae0e69d-f000-47aa-f852-ecadd3a1d76d"
      },
      "execution_count": null,
      "outputs": [
        {
          "output_type": "stream",
          "name": "stdout",
          "text": [
            "prajwal arvind shekokar\n"
          ]
        }
      ]
    },
    {
      "cell_type": "code",
      "source": [
        "#Q135. Ask a string from user. Convert uppercase to lowercase and convert\n",
        "#lowercase to uppercase and don’t change the other letters. (Do on your\n",
        "#own)\n",
        "\n",
        "sr=\"Prajwal Arvind Shekokar   \"\n",
        "res=\"\"\n",
        "for i in sr:\n",
        "  if i.isupper():\n",
        "    res+=i.islower()\n",
        "  else:\n",
        "\n"
      ],
      "metadata": {
        "colab": {
          "base_uri": "https://localhost:8080/",
          "height": 106
        },
        "id": "J0hPi2aKiN1h",
        "outputId": "e7554add-3363-4296-bd10-6d710dae8e51"
      },
      "execution_count": null,
      "outputs": [
        {
          "output_type": "error",
          "ename": "SyntaxError",
          "evalue": "incomplete input (<ipython-input-33-0aea4e835939>, line 11)",
          "traceback": [
            "\u001b[0;36m  File \u001b[0;32m\"<ipython-input-33-0aea4e835939>\"\u001b[0;36m, line \u001b[0;32m11\u001b[0m\n\u001b[0;31m    \u001b[0m\n\u001b[0m    ^\u001b[0m\n\u001b[0;31mSyntaxError\u001b[0m\u001b[0;31m:\u001b[0m incomplete input\n"
          ]
        }
      ]
    },
    {
      "cell_type": "code",
      "source": [
        "#Q136. Count the number of spaces in a string entered by user\n",
        "r=\"Prajwal Arvind Shekokar   \"\n",
        "count=0\n",
        "\n",
        "for i in r:\n",
        "  if i==\" \":\n",
        "    count=count+1\n",
        "print(count)"
      ],
      "metadata": {
        "colab": {
          "base_uri": "https://localhost:8080/"
        },
        "id": "XDTp5CTxjB1z",
        "outputId": "a92f6c84-36c8-4e19-e95c-ce3426ecf690"
      },
      "execution_count": null,
      "outputs": [
        {
          "output_type": "stream",
          "name": "stdout",
          "text": [
            "5\n"
          ]
        }
      ]
    }
  ]
}