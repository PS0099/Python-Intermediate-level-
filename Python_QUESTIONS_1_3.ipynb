{
  "nbformat": 4,
  "nbformat_minor": 0,
  "metadata": {
    "colab": {
      "provenance": []
    },
    "kernelspec": {
      "name": "python3",
      "display_name": "Python 3"
    },
    "language_info": {
      "name": "python"
    }
  },
  "cells": [
    {
      "cell_type": "code",
      "execution_count": 5,
      "metadata": {
        "colab": {
          "base_uri": "https://localhost:8080/"
        },
        "id": "1nHS1kXgGnkJ",
        "outputId": "9541245d-2d23-4089-e3b7-fe41d7138fca"
      },
      "outputs": [
        {
          "output_type": "stream",
          "name": "stdout",
          "text": [
            "C:\\Users\\John\\Desktop\\File.txt\n"
          ]
        }
      ],
      "source": [
        "#Q1. Write a program that prints a path like this:\n",
        "#C:\\Users\\John\\Desktop\\File.txt using the appropriate escape sequences.\n",
        "\n",
        "path = r'C:\\Users\\John\\Desktop\\File.txt'\n",
        "print(path)\n",
        "\n"
      ]
    },
    {
      "cell_type": "code",
      "source": [
        "#Q2. Write a Python program that prints a message with a double-quote\n",
        "#character inside it.\n",
        "#For example: He said, \"Hello!\".\n",
        "\n",
        "x= 'He said , \"Hello!\"'\n",
        "print(x)"
      ],
      "metadata": {
        "colab": {
          "base_uri": "https://localhost:8080/"
        },
        "id": "CjaP0LwsHEsX",
        "outputId": "ff9c0239-d756-4839-9e49-5ffd4052bffe"
      },
      "execution_count": 2,
      "outputs": [
        {
          "output_type": "stream",
          "name": "stdout",
          "text": [
            "He said , \"Hello!\"\n"
          ]
        }
      ]
    },
    {
      "cell_type": "code",
      "source": [
        "#Q3. Create a program that prints a message containing both single and\n",
        "#double quotes,\n",
        "#like this: She said, 'It's cold'.\n",
        "\n",
        "x= \"She said ,'It's cold\"\n",
        "print(x)"
      ],
      "metadata": {
        "colab": {
          "base_uri": "https://localhost:8080/"
        },
        "id": "ck065p1GHapd",
        "outputId": "7210a7aa-c88c-4477-b2c6-387036b9905f"
      },
      "execution_count": 3,
      "outputs": [
        {
          "output_type": "stream",
          "name": "stdout",
          "text": [
            "She said ,'It's cold\n"
          ]
        }
      ]
    }
  ]
}