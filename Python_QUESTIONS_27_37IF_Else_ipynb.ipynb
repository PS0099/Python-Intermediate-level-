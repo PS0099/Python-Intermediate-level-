{
  "nbformat": 4,
  "nbformat_minor": 0,
  "metadata": {
    "colab": {
      "provenance": []
    },
    "kernelspec": {
      "name": "python3",
      "display_name": "Python 3"
    },
    "language_info": {
      "name": "python"
    }
  },
  "cells": [
    {
      "cell_type": "code",
      "source": [
        "#Q27. Write a program to check if the number is ODD, EVEN or Equal to Zero.\n",
        "\n",
        "n=int(input(\"Enter The Number :\"))\n",
        "\n",
        "if n==0:\n",
        "  print(\"The  Number is equal to 0\")\n",
        "\n",
        "elif n%2==0:\n",
        "  print(\"The Number is Even\")\n",
        "\n",
        "else:\n",
        "  print(\"The Number is Odd\")"
      ],
      "metadata": {
        "colab": {
          "base_uri": "https://localhost:8080/"
        },
        "id": "cLhabqChb8_W",
        "outputId": "b62143c8-ef25-49bc-ea02-dc994f678d00"
      },
      "execution_count": 3,
      "outputs": [
        {
          "output_type": "stream",
          "name": "stdout",
          "text": [
            "Enter The Number10\n",
            "10 The Number is Even\n"
          ]
        }
      ]
    },
    {
      "cell_type": "code",
      "source": [
        "#Q28. Write a program to check if number is divisible by 2 and 3 but not 8.\n",
        "\n",
        "n=int(input(\"Enter The Number :\"))\n",
        "\n",
        "if n%2==0 and n%3==0 and n%8!=0:\n",
        "  print(\"number is divisible 2 and 3 but 8\")\n",
        "\n",
        "else:\n",
        "  print(\"number is not divisible by 2 and 3 or it is divisible by 8\")"
      ],
      "metadata": {
        "colab": {
          "base_uri": "https://localhost:8080/"
        },
        "id": "RO3VnDE4cyMK",
        "outputId": "559fb55f-d107-4d4b-b1f1-a9f4f811617a"
      },
      "execution_count": 4,
      "outputs": [
        {
          "output_type": "stream",
          "name": "stdout",
          "text": [
            "Enter The Number :15\n",
            "number is not divisible by 2 and 3 but divisible by 8\n"
          ]
        }
      ]
    },
    {
      "cell_type": "code",
      "source": [
        "#Q29. Write a program to print the last digit of a number. (NOT A IF ELSE\n",
        "#QUESTION)\n",
        "\n",
        "n=int(input(\"Enter The Number :\"))\n",
        "\n",
        "a=n%10\n",
        "print(a)\n"
      ],
      "metadata": {
        "colab": {
          "base_uri": "https://localhost:8080/"
        },
        "id": "HPx0sXmgeGPY",
        "outputId": "13a1d8ad-de1c-4608-e86c-ea0e9ff2c445"
      },
      "execution_count": 7,
      "outputs": [
        {
          "output_type": "stream",
          "name": "stdout",
          "text": [
            "Enter The Number :45321\n",
            "1\n"
          ]
        }
      ]
    },
    {
      "cell_type": "code",
      "source": [
        "#Q30. Write a program to check if the last digit of a number is divisible by 5\n",
        "#or not.\n",
        "\n",
        "n=int(input(\"Enter The Number :\"))\n",
        "\n",
        "a=n%10\n",
        "print(a)\n",
        "if a%5==0:\n",
        "  print(\"last digit of number is divisible by 5\")\n",
        "\n",
        "else:\n",
        "  print(\"last digit of number is not divisible by 5\")\n"
      ],
      "metadata": {
        "colab": {
          "base_uri": "https://localhost:8080/"
        },
        "id": "BDwHFfS0flP9",
        "outputId": "58b19f18-3871-4bf9-b544-821d2a610b95"
      },
      "execution_count": 9,
      "outputs": [
        {
          "output_type": "stream",
          "name": "stdout",
          "text": [
            "Enter The Number :457896\n",
            "6\n",
            "last digit of number is not divisible by 5\n"
          ]
        }
      ]
    },
    {
      "cell_type": "code",
      "source": [
        "'''Q31. Write a program to calculate bill. Ask the final amount from the user.\n",
        "You have to give discount and print the final bill after discount.\n",
        "50000 above - 30% discount\n",
        "40000 - 49999 - 25% discount\n",
        "30000 - 39999 - 20% discount\n",
        "10000 - 29999 - 10% discount\n",
        "1 - 9999 - No discount\n",
        "Print the discount and the final amount to be paid.\n",
        "\n",
        "Example 1\n",
        "Enter bill amount = 80000\n",
        "You got 30% discount\n",
        "Your final bill is Rs. 56000'''"
      ],
      "metadata": {
        "id": "NXxks7gGiOsW"
      },
      "execution_count": null,
      "outputs": []
    },
    {
      "cell_type": "code",
      "source": [
        "a=float(input(\"Enter bill Amount :\"))\n",
        "\n",
        "if a > 50000:\n",
        "  d=0.3\n",
        "elif a>=40000 and a <=49999:\n",
        "  d=0.25\n",
        "elif a>=30000 and a<=39999:\n",
        "  d=0.2\n",
        "elif a>=10000 and a<=29999:\n",
        "  d=0.1\n",
        "else:\n",
        "  d=0\n",
        "print(f\"your bill amount is :{a}\")\n",
        "Discount=d*100\n",
        "print(f\"You got {Discount}% discount\")\n",
        "\n",
        "fi= a-a*d\n",
        "\n",
        "print(f\"your final bill after discount is : {fi}\")"
      ],
      "metadata": {
        "colab": {
          "base_uri": "https://localhost:8080/"
        },
        "id": "aYCX5Ho6ifv3",
        "outputId": "1b2137f4-bd43-4eba-b71c-e75ee70a87e4"
      },
      "execution_count": 12,
      "outputs": [
        {
          "output_type": "stream",
          "name": "stdout",
          "text": [
            "Enter bill Amount :35000\n",
            "your bill amount is :35000.0\n",
            "You got 20.0% discount\n",
            "your final bill after discount is : 28000.0\n"
          ]
        }
      ]
    },
    {
      "cell_type": "code",
      "source": [
        "#Q32. Ask 4 numbers from user. Make sure all the numbers entered by user\n",
        "#are different. Print which number is the smallest.\n",
        "\n",
        "a=int(input(\"enter the 1st number :\"))\n",
        "b=int(input(\"enter the 2nd number :\"))\n",
        "c=int(input(\"enter the 3rd number :\"))\n",
        "d=int(input(\"enter the 4th number :\"))\n",
        "\n",
        "\n",
        "if a<b and a<c and a<d:\n",
        "  print(a,\"is smallest number\")\n",
        "\n",
        "elif b<a and b<c and b<d:\n",
        "  print(b,\"is smallest number\")\n",
        "\n",
        "elif c<a and c<b and c<d:\n",
        "  print(c,\"is smallest number\")\n",
        "\n",
        "elif d<a and d<b and d<c:\n",
        "  print(d,\"is smallest number\")\n",
        "\n",
        "else:\n",
        "  print(\"you have entered same number\")"
      ],
      "metadata": {
        "colab": {
          "base_uri": "https://localhost:8080/"
        },
        "id": "P5LvD4xyk_2R",
        "outputId": "f689e7b6-3c86-4525-f6bb-6ba1046c9f77"
      },
      "execution_count": 16,
      "outputs": [
        {
          "output_type": "stream",
          "name": "stdout",
          "text": [
            "enter the 1st number :1\n",
            "enter the 2nd number :1\n",
            "enter the 3rd number :3\n",
            "enter the 4th number :4\n",
            "you have entered same number\n"
          ]
        }
      ]
    },
    {
      "cell_type": "code",
      "source": [
        "'''Q33. Ask a number from user.\n",
        "Print “Fizz” if the number is divisible by 3.\n",
        "Print “Buzz” if the number is divisible by 5.\n",
        "Print “FizzBuzz” if the number is divisible by 3 and 5.\n",
        "Print the number itself if none of the conditions are true.'''"
      ],
      "metadata": {
        "id": "pUdn6Q__wK9n"
      },
      "execution_count": null,
      "outputs": []
    },
    {
      "cell_type": "code",
      "source": [
        "n=int(input(\"enter a number:\"))\n",
        "\n",
        "if n%3==0 and n%5==0:\n",
        "  print(\"FizzBuzz\")\n",
        "\n",
        "elif n%3==0:\n",
        "  print(\"Fizz\")\n",
        "\n",
        "elif n%5==0:\n",
        "  print(\"Buzz\")\n",
        "\n",
        "else:\n",
        "  print(n)"
      ],
      "metadata": {
        "colab": {
          "base_uri": "https://localhost:8080/"
        },
        "id": "urs0bEL7wVBo",
        "outputId": "6436bbc8-6954-4410-c313-c4fa9b409330"
      },
      "execution_count": 18,
      "outputs": [
        {
          "output_type": "stream",
          "name": "stdout",
          "text": [
            "enter a number:16\n",
            "16\n"
          ]
        }
      ]
    },
    {
      "cell_type": "code",
      "source": [
        "'''Q35. Take Salary as input from User and Update the salary of an employee.\n",
        "salary less than 10,000, 5 % increment\n",
        "salary between 10,000 and 20, 000, 10 % increment\n",
        "salary between 20,000 and 50,000, 15 % increment\n",
        "salary more than 50,000, 20 % increment'''"
      ],
      "metadata": {
        "id": "DbP-J3xjxBjy"
      },
      "execution_count": null,
      "outputs": []
    },
    {
      "cell_type": "code",
      "source": [
        "s=float(input(\"Enetr your Salary :\"))\n",
        "if s>50000:\n",
        "  increment=0.2\n",
        "elif s>20000 and s<=50000:\n",
        "  increment=0.15\n",
        "elif s>10000 and s<=20000:\n",
        "  increment=0.1\n",
        "else:\n",
        "  increment=0.05\n",
        "\n",
        "u=s+s*increment\n",
        "\n",
        "print(f\"Rs:{s}\")\n",
        "print(f\"your are getting increment of {increment*100}%\")\n",
        "print(f\"your updated salary is Rs:{u}\")"
      ],
      "metadata": {
        "colab": {
          "base_uri": "https://localhost:8080/"
        },
        "id": "Nnpq0mUDxMUy",
        "outputId": "5c00e9e4-ffb2-4028-cc7a-fb9b03071ae8"
      },
      "execution_count": 25,
      "outputs": [
        {
          "output_type": "stream",
          "name": "stdout",
          "text": [
            "Enetr your Salary :32000\n",
            "Rs:32000.0\n",
            "your are getting increment of 15.0%\n",
            "your updated salary is Rs:36800.0\n"
          ]
        }
      ]
    },
    {
      "cell_type": "code",
      "source": [
        "#Q36. Take three numbers as input from User and print which one is greater\n",
        "#or are they equal.\n",
        "a=int(input(\"enter the 1st number :\"))\n",
        "b=int(input(\"enter the 2nd number :\"))\n",
        "c=int(input(\"enter the 3rd number :\"))\n",
        "\n",
        "if a>b and a>c:\n",
        "  print(a,\"is greater\")\n",
        "\n",
        "elif b>a and b>c:\n",
        "  print(b,\"is greater\")\n",
        "\n",
        "elif c>a and c>b:\n",
        "  print(c,\"is greater\")\n",
        "else:\n",
        "   print(\" are they equal.\")\n",
        "\n"
      ],
      "metadata": {
        "colab": {
          "base_uri": "https://localhost:8080/"
        },
        "id": "6FtTStmZziY5",
        "outputId": "77389eeb-6d1e-4448-eb53-c04b9007fb48"
      },
      "execution_count": 28,
      "outputs": [
        {
          "output_type": "stream",
          "name": "stdout",
          "text": [
            "enter the 1st number :4\n",
            "enter the 2nd number :4\n",
            "enter the 3rd number :4\n",
            " are they equal.\n"
          ]
        }
      ]
    }
  ]
}