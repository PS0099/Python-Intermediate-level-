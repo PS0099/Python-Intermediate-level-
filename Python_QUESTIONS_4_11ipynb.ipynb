{
  "nbformat": 4,
  "nbformat_minor": 0,
  "metadata": {
    "colab": {
      "provenance": []
    },
    "kernelspec": {
      "name": "python3",
      "display_name": "Python 3"
    },
    "language_info": {
      "name": "python"
    }
  },
  "cells": [
    {
      "cell_type": "code",
      "execution_count": 2,
      "metadata": {
        "colab": {
          "base_uri": "https://localhost:8080/"
        },
        "id": "8t0Gr0P6ILM-",
        "outputId": "cfaa75b1-cfc7-4430-d5a9-e51a9904cc93"
      },
      "outputs": [
        {
          "output_type": "stream",
          "name": "stdout",
          "text": [
            "Enter number 1st:10\n",
            "Enter number 2nd:20\n",
            "The addition of numbers is : 30\n"
          ]
        }
      ],
      "source": [
        "#Q4. Write a Python program to add two numbers entered by the user.\n",
        "\n",
        "x=int(input(\"Enter number 1st :\"))\n",
        "y=int(input(\"Enter number 2nd :\"))\n",
        "\n",
        "z=x+y\n",
        "\n",
        "print(\"The addition of numbers is :\",z)\n"
      ]
    },
    {
      "cell_type": "code",
      "source": [
        "#Q5. Convert a string to an integer and vice versa.\n",
        "\n",
        "\n",
        "x=\"100\"\n",
        "\n",
        "print(type(x))\n",
        "\n",
        "y=int(x)\n",
        "\n",
        "print(type(y))"
      ],
      "metadata": {
        "colab": {
          "base_uri": "https://localhost:8080/"
        },
        "id": "0PwE_v5hImqZ",
        "outputId": "78352bac-3763-4115-dfa2-f8a12b0b355f"
      },
      "execution_count": 3,
      "outputs": [
        {
          "output_type": "stream",
          "name": "stdout",
          "text": [
            "<class 'str'>\n",
            "<class 'int'>\n"
          ]
        }
      ]
    },
    {
      "cell_type": "code",
      "source": [
        "#Q6. Write a Python program to calculate the area of a rectangle using user\n",
        "#input for length and width.\n",
        "\n",
        "l=float(input(\"Enter the length of Rectangle :\"))\n",
        "w=float(input(\"Enter the width of Rectangle :\"))\n",
        "\n",
        "\n",
        "area = l * w\n",
        "\n",
        "print(\"The area of rectangle is :\", area)"
      ],
      "metadata": {
        "colab": {
          "base_uri": "https://localhost:8080/"
        },
        "id": "a6PRJKUpJGvF",
        "outputId": "e25a411d-5a56-46f5-ab88-b6ee6010c1bf"
      },
      "execution_count": 14,
      "outputs": [
        {
          "output_type": "stream",
          "name": "stdout",
          "text": [
            "Enter the length of Rectangle :18\n",
            "Enter the width of Rectangle :16\n",
            "The area of rectangle is : 288.0\n"
          ]
        }
      ]
    },
    {
      "cell_type": "code",
      "source": [
        "#Q7. Write a Python program to calculate the average of three numbers\n",
        "#entered by the user.\n",
        "\n",
        "x=int(input(\"Enter number 1st :\"))\n",
        "y=int(input(\"Enter number 2nd :\"))\n",
        "z=int(input(\"Enter number 3rd :\"))\n",
        "\n",
        "average = (x+y+z)//3\n",
        "\n",
        "print(average)\n",
        "\n"
      ],
      "metadata": {
        "colab": {
          "base_uri": "https://localhost:8080/"
        },
        "id": "2cCOtc8hKsw8",
        "outputId": "13e16836-2478-41ab-b5ed-aeeb94f51e91"
      },
      "execution_count": 18,
      "outputs": [
        {
          "output_type": "stream",
          "name": "stdout",
          "text": [
            "Enter number 1st :10\n",
            "Enter number 2nd :10\n",
            "Enter number 3rd :10\n",
            "10\n"
          ]
        }
      ]
    },
    {
      "cell_type": "code",
      "source": [
        "#Q8. Convert a float to an integer and vice versa.\n",
        "\n",
        "\n",
        "x=21.33\n",
        "print(x)\n",
        "print(type(x))\n",
        "\n",
        "y=int(x)\n",
        "print(y)\n",
        "print(type(y))"
      ],
      "metadata": {
        "colab": {
          "base_uri": "https://localhost:8080/"
        },
        "id": "ZbF_yEAjLK0u",
        "outputId": "d3ba02ff-5ae0-4c4e-a330-b48833923325"
      },
      "execution_count": 20,
      "outputs": [
        {
          "output_type": "stream",
          "name": "stdout",
          "text": [
            "21.33\n",
            "<class 'float'>\n",
            "21\n",
            "<class 'int'>\n"
          ]
        }
      ]
    },
    {
      "cell_type": "code",
      "source": [
        "#Q9. Write a program that converts a temperature in Fahrenheit to Celsius.\n",
        "#The formula is: Celsius = (Fahrenheit - 32) * 5/9.\n",
        "Fahrenheit=float(input(\"Enter temperature in Fahrenheit :\"))\n",
        "\n",
        "\n",
        "Celsius = (Fahrenheit - 32) * 5/9\n",
        "\n",
        "print(f\"{Fahrenheit} degrees Fahrenheit is equal to {Celsius:.2f} degrees Celsius.\")\n"
      ],
      "metadata": {
        "colab": {
          "base_uri": "https://localhost:8080/"
        },
        "id": "HFA1WblKLj9_",
        "outputId": "f44c50b1-61de-4e93-87fa-9da322fd8cd0"
      },
      "execution_count": 24,
      "outputs": [
        {
          "output_type": "stream",
          "name": "stdout",
          "text": [
            "Enter temperature in Fahrenheit :100\n",
            "100.0 degrees Fahrenheit is equal to 37.78 degrees Celsius.\n"
          ]
        }
      ]
    },
    {
      "cell_type": "code",
      "source": [
        "subject1 = float(input(\"Enter marks for subject 1: \"))\n",
        "subject2 = float(input(\"Enter marks for subject 2: \"))\n",
        "subject3 = float(input(\"Enter marks for subject 3: \"))\n",
        "subject4 = float(input(\"Enter marks for subject 4: \"))\n",
        "subject5 = float(input(\"Enter marks for subject 5: \"))\n",
        "\n",
        "\n",
        "total_marks = subject1 + subject2 + subject3 + subject4 + subject5\n",
        "\n",
        "percentage =(total_marks/500)*100\n",
        "\n",
        "print(total_marks)\n",
        "print(f\"{percentage:.2f}\")"
      ],
      "metadata": {
        "colab": {
          "base_uri": "https://localhost:8080/"
        },
        "id": "ZghPSpLjNY7S",
        "outputId": "25cf88f6-a898-400b-88c0-a0c28de81f83"
      },
      "execution_count": 26,
      "outputs": [
        {
          "output_type": "stream",
          "name": "stdout",
          "text": [
            "Enter marks for subject 1: 60\n",
            "Enter marks for subject 2: 50\n",
            "Enter marks for subject 3: 90\n",
            "Enter marks for subject 4: 70\n",
            "Enter marks for subject 5: 66\n",
            "336.0\n",
            "67.20\n"
          ]
        }
      ]
    },
    {
      "cell_type": "code",
      "source": [
        "# Ask the user for input\n",
        "num_games_played = int(input(\"Enter the number of games played in the tournament: \"))\n",
        "num_games_won = int(input(\"Enter the number of games won: \"))\n",
        "num_games_lost = int(input(\"Enter the number of games lost: \"))\n",
        "\n",
        "# Calculate number of ties\n",
        "num_ties = num_games_played - num_games_won - num_games_lost\n",
        "\n",
        "# Calculate total points\n",
        "total_points = (num_games_won * 4) + (num_ties * 2)\n",
        "\n",
        "# Output results\n",
        "print(\"Number of ties:\", num_ties)\n",
        "print(\"Total points earned:\", total_points)\n"
      ],
      "metadata": {
        "id": "p3lprRbTOavw"
      },
      "execution_count": null,
      "outputs": []
    }
  ]
}