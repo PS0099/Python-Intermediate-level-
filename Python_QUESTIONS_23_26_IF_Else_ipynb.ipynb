{
  "nbformat": 4,
  "nbformat_minor": 0,
  "metadata": {
    "colab": {
      "provenance": []
    },
    "kernelspec": {
      "name": "python3",
      "display_name": "Python 3"
    },
    "language_info": {
      "name": "python"
    }
  },
  "cells": [
    {
      "cell_type": "code",
      "source": [
        "#Q23. Write a Python program that takes an integer input and prints\n",
        "#whether it's positive, negative. (Consider 0 as positive)\n",
        "\n",
        "x=int(input(\"Enter the number :\"))\n",
        "\n",
        "if x>=0:\n",
        "  print(\"The number is Positive :\")\n",
        "else:\n",
        "  print(\"The number is Negative :\")"
      ],
      "metadata": {
        "colab": {
          "base_uri": "https://localhost:8080/"
        },
        "id": "wPw-rV2jddIX",
        "outputId": "226c6844-d07a-418b-d107-a1fd53665e19"
      },
      "execution_count": 55,
      "outputs": [
        {
          "output_type": "stream",
          "name": "stdout",
          "text": [
            "Enter the number :-1\n",
            "The number is Negative :\n"
          ]
        }
      ]
    },
    {
      "cell_type": "code",
      "source": [
        "#Q24. Write a program that takes a character as input and prints whether\n",
        "#it's a vowel or a consonant. (Multiple OR will be used)\n",
        "\n",
        "\n",
        "x=input(\"Enter A Character\")\n",
        "\n",
        "if x==\"a\" or x==\"e\" or x==\"i\" or x==\"o\" or x==\"u\":\n",
        "  print(\"The character is vowel :\",x)\n",
        "\n",
        "else:\n",
        "  print(\"The character is consonant :\",x)\n"
      ],
      "metadata": {
        "colab": {
          "base_uri": "https://localhost:8080/"
        },
        "id": "6YmZCGFfeB1o",
        "outputId": "02f47f98-4dc9-4e80-fbe2-3fe8256b26d9"
      },
      "execution_count": 57,
      "outputs": [
        {
          "output_type": "stream",
          "name": "stdout",
          "text": [
            "Enter A Charactera\n",
            "The character is vowel : a\n"
          ]
        }
      ]
    },
    {
      "cell_type": "code",
      "source": [
        "#Q25. Write a program that takes two numbers as input and checks if the\n",
        "#first number is divisible by the second.\n",
        "x=int(input(\"Enter the 1st number :\"))\n",
        "y=int(input(\"Enter the 2nd number :\"))\n",
        "\n",
        "\n",
        "if x%y==0:\n",
        "  print(\"Number is Divisible\")\n",
        "else:\n",
        "  print(\"Number is not Divisible\")"
      ],
      "metadata": {
        "colab": {
          "base_uri": "https://localhost:8080/"
        },
        "id": "14UjNTYTewLM",
        "outputId": "259e8fe0-2493-454d-86a3-cce77378d8c3"
      },
      "execution_count": 59,
      "outputs": [
        {
          "output_type": "stream",
          "name": "stdout",
          "text": [
            "Enter the 1st number :10\n",
            "Enter the 2nd number :5\n",
            "Number is Divisible\n"
          ]
        }
      ]
    },
    {
      "cell_type": "code",
      "source": [
        "'''Q26. A student will not be allowed to sit in exam if his/her attendance is\n",
        "less than 75%.\n",
        "Take following input from user\n",
        "\n",
        "Number of classes held\n",
        "Number of classes attended.\n",
        "1. Print percentage of class attended\n",
        "2. Print Is student is allowed to sit in exam or not'''"
      ],
      "metadata": {
        "colab": {
          "base_uri": "https://localhost:8080/",
          "height": 88
        },
        "id": "bERA6lgsf2WW",
        "outputId": "f8c42f89-cd22-45ea-edf5-aafe69778e6c"
      },
      "execution_count": 61,
      "outputs": [
        {
          "output_type": "execute_result",
          "data": {
            "text/plain": [
              "'Q26. A student will not be allowed to sit in exam if his/her attendance is\\nless than 75%.\\nTake following input from user\\n\\nNumber of classes held\\nNumber of classes attended.\\n1. Print percentage of class attended\\n2. Print Is student is allowed to sit in exam or not'"
            ],
            "application/vnd.google.colaboratory.intrinsic+json": {
              "type": "string"
            }
          },
          "metadata": {},
          "execution_count": 61
        }
      ]
    },
    {
      "cell_type": "code",
      "source": [
        "x= int(input(\"Enter The Number of classes held :\"))\n",
        "y= int(input(\"Enter The Number of classes attended :\"))\n",
        "\n",
        "Percentage= (y/x)*100\n",
        "print(\"Percentage of attended classes is :\",Percentage)\n",
        "if Percentage >= 75:\n",
        "  print(\"student is allowed to sit in exam \")\n",
        "else:\n",
        "  print(\"student is not allowed to sit in exam\")"
      ],
      "metadata": {
        "colab": {
          "base_uri": "https://localhost:8080/"
        },
        "id": "BoHMKgqxf_H9",
        "outputId": "63bab231-386d-46d9-e461-ac2f2a3d3043"
      },
      "execution_count": 65,
      "outputs": [
        {
          "output_type": "stream",
          "name": "stdout",
          "text": [
            "Enter The Number of classes held :100\n",
            "Enter The Number of classes attended :75\n",
            "Percentage of attended classes is : 75.0\n",
            "student is allowed to sit in exam \n"
          ]
        }
      ]
    }
  ]
}