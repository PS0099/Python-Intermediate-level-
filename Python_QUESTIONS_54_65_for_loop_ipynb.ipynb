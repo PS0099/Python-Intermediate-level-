{
  "nbformat": 4,
  "nbformat_minor": 0,
  "metadata": {
    "colab": {
      "provenance": []
    },
    "kernelspec": {
      "name": "python3",
      "display_name": "Python 3"
    },
    "language_info": {
      "name": "python"
    }
  },
  "cells": [
    {
      "cell_type": "code",
      "source": [
        "#Q54. Ask a number from user. Print all the numbers from 1 to that number.\n",
        "\n",
        "n=int(input(\"Enter the number :\"))\n",
        "\n",
        "for i in range (1,n+1):\n",
        "  print(i)"
      ],
      "metadata": {
        "colab": {
          "base_uri": "https://localhost:8080/"
        },
        "id": "2OgblpJzPi-L",
        "outputId": "3954f72e-9c8d-43ab-ab27-d0fbe645f141"
      },
      "execution_count": 8,
      "outputs": [
        {
          "output_type": "stream",
          "name": "stdout",
          "text": [
            "Enter the number :10\n",
            "1\n",
            "2\n",
            "3\n",
            "4\n",
            "5\n",
            "6\n",
            "7\n",
            "8\n",
            "9\n",
            "10\n"
          ]
        }
      ]
    },
    {
      "cell_type": "code",
      "source": [
        "#Q55. Ask a number (N) from user. Print all the numbers from N to 1.\n",
        "\n",
        "n=int(input(\"Enter the number :\"))\n",
        "\n",
        "for i in range (n,0,-1):\n",
        "  print(i)"
      ],
      "metadata": {
        "colab": {
          "base_uri": "https://localhost:8080/"
        },
        "id": "AzIVb1JLP0V5",
        "outputId": "3f8d2305-39a2-4bad-c0af-b65f578f7d47"
      },
      "execution_count": 18,
      "outputs": [
        {
          "output_type": "stream",
          "name": "stdout",
          "text": [
            "Enter the number :10\n",
            "10\n",
            "9\n",
            "8\n",
            "7\n",
            "6\n",
            "5\n",
            "4\n",
            "3\n",
            "2\n",
            "1\n"
          ]
        }
      ]
    },
    {
      "cell_type": "code",
      "source": [
        "#Q56. Ask start number and end number from user. Print all the numbers\n",
        "#from start to end using while loop.\n",
        "s=int(input(\"Enter the number :\"))\n",
        "e=int(input(\"Enter the number :\"))\n",
        "\n",
        "for i in range (s,e+1):\n",
        "  print(i)"
      ],
      "metadata": {
        "colab": {
          "base_uri": "https://localhost:8080/"
        },
        "id": "VRCov1_aVjHm",
        "outputId": "6d2d50cf-0fc7-4dc5-92d4-ba5e322f6272"
      },
      "execution_count": 19,
      "outputs": [
        {
          "output_type": "stream",
          "name": "stdout",
          "text": [
            "Enter the number :1\n",
            "Enter the number :10\n",
            "1\n",
            "2\n",
            "3\n",
            "4\n",
            "5\n",
            "6\n",
            "7\n",
            "8\n",
            "9\n",
            "10\n"
          ]
        }
      ]
    },
    {
      "cell_type": "code",
      "source": [
        "#Q57. Calculate the sum of all the numbers from 1 to 10\n",
        "\n",
        "sum=0\n",
        "for i in range (1,11):\n",
        "  sum=sum+i\n",
        "print(sum)"
      ],
      "metadata": {
        "colab": {
          "base_uri": "https://localhost:8080/"
        },
        "id": "JhNpseuEV6Az",
        "outputId": "43bc5c42-be5a-43ce-8c16-40f741254d03"
      },
      "execution_count": 20,
      "outputs": [
        {
          "output_type": "stream",
          "name": "stdout",
          "text": [
            "55\n"
          ]
        }
      ]
    },
    {
      "cell_type": "code",
      "source": [
        "#Q58. Calculate product of all the numbers from 1 to 10.\n",
        "pr=1\n",
        "for i in range (1,11):\n",
        "  pr=pr*i\n",
        "print(pr)"
      ],
      "metadata": {
        "colab": {
          "base_uri": "https://localhost:8080/"
        },
        "id": "e4Jnz6CKWJjF",
        "outputId": "0081c283-f727-4582-9d69-f70369349b0f"
      },
      "execution_count": 21,
      "outputs": [
        {
          "output_type": "stream",
          "name": "stdout",
          "text": [
            "3628800\n"
          ]
        }
      ]
    },
    {
      "cell_type": "code",
      "source": [
        "#Q59. Calculate how many numbers are divisible by 7 from 1 to 100.\n",
        "count=0\n",
        "\n",
        "for i in range (1,101):\n",
        "  if i%7==0:\n",
        "    count=count+1\n",
        "print(count)\n"
      ],
      "metadata": {
        "colab": {
          "base_uri": "https://localhost:8080/"
        },
        "id": "nRS0Pm19WTc_",
        "outputId": "7b12594c-3d3a-49e9-b00e-72092055d7a2"
      },
      "execution_count": 22,
      "outputs": [
        {
          "output_type": "stream",
          "name": "stdout",
          "text": [
            "14\n"
          ]
        }
      ]
    },
    {
      "cell_type": "code",
      "source": [
        "#Q60. Calculate how many numbers are divisible by both 6 and 7 between 1\n",
        "#to 200.\n",
        "\n",
        "count=0\n",
        "\n",
        "for i in range (1,201):\n",
        "  if i%7==0 and i%6==0:\n",
        "    count=count+1\n",
        "print(count)\n"
      ],
      "metadata": {
        "colab": {
          "base_uri": "https://localhost:8080/"
        },
        "id": "YWa65SluWkBs",
        "outputId": "47ea2acc-f3b0-4cfa-9792-3abf4c849415"
      },
      "execution_count": 23,
      "outputs": [
        {
          "output_type": "stream",
          "name": "stdout",
          "text": [
            "4\n"
          ]
        }
      ]
    },
    {
      "cell_type": "code",
      "source": [
        "#Q61. Write a program to calculate the sum of all the numbers divisible by 4\n",
        "#from 20 to 50.\n",
        "\n",
        "sum=0\n",
        "for i in range (20,51):\n",
        "  if i%4==0:\n",
        "    sum=sum+i\n",
        "print(sum)"
      ],
      "metadata": {
        "colab": {
          "base_uri": "https://localhost:8080/"
        },
        "id": "lwSwXj3qXWqu",
        "outputId": "3480e261-25a2-4d9c-e979-06b83d988d2e"
      },
      "execution_count": 25,
      "outputs": [
        {
          "output_type": "stream",
          "name": "stdout",
          "text": [
            "272\n"
          ]
        }
      ]
    },
    {
      "cell_type": "code",
      "source": [
        "'''Q63. Ask a number from user. Print the multiplication table of that number.\n",
        "Example\n",
        "Enter a number = 8\n",
        "8 x 1 = 8\n",
        "8 x 2 = 16\n",
        "8 x 3 = 24\n",
        "\n",
        ".....\n",
        "8 x 10 = 80'''"
      ],
      "metadata": {
        "id": "VGzn5j_dXqne"
      },
      "execution_count": null,
      "outputs": []
    },
    {
      "cell_type": "code",
      "source": [
        "n=int(input(\"Enter the number :\"))\n",
        "\n",
        "for i in range (1,11):\n",
        "  print(n*i)"
      ],
      "metadata": {
        "colab": {
          "base_uri": "https://localhost:8080/"
        },
        "id": "Ux9eNE4AXuCx",
        "outputId": "fdb26ac2-b9f5-424b-c6b0-0bf9d8b04076"
      },
      "execution_count": 26,
      "outputs": [
        {
          "output_type": "stream",
          "name": "stdout",
          "text": [
            "Enter the number :8\n",
            "8\n",
            "16\n",
            "24\n",
            "32\n",
            "40\n",
            "48\n",
            "56\n",
            "64\n",
            "72\n",
            "80\n"
          ]
        }
      ]
    },
    {
      "cell_type": "code",
      "source": [
        "'''Q64. Calculate factorial of a number entered by user.\n",
        "Example:\n",
        "Enter a number = 5\n",
        "Factorial of a number means product of all the numbers from 1 to that\n",
        "number.\n",
        "5 factorial = 5 x 4 x 3 x 2 x 1\n",
        "Output = 120'''"
      ],
      "metadata": {
        "id": "i6MO_XV0X_D5"
      },
      "execution_count": null,
      "outputs": []
    },
    {
      "cell_type": "code",
      "source": [
        "n=int(input(\"Enter the number :\"))\n",
        "f=1\n",
        "for i in range (n,0,-1):\n",
        "  f=f*i\n",
        "print(f)"
      ],
      "metadata": {
        "colab": {
          "base_uri": "https://localhost:8080/"
        },
        "id": "_MsnXE5mYBP2",
        "outputId": "0e79a503-c3b5-47d6-a258-446f8055eb3c"
      },
      "execution_count": 28,
      "outputs": [
        {
          "output_type": "stream",
          "name": "stdout",
          "text": [
            "Enter the number :5\n",
            "120\n"
          ]
        }
      ]
    }
  ]
}