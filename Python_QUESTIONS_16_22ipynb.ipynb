{
  "nbformat": 4,
  "nbformat_minor": 0,
  "metadata": {
    "colab": {
      "provenance": []
    },
    "kernelspec": {
      "name": "python3",
      "display_name": "Python 3"
    },
    "language_info": {
      "name": "python"
    }
  },
  "cells": [
    {
      "cell_type": "code",
      "source": [
        "#Q16. Guess the output:\n",
        "\n",
        "x=5\n",
        "y=3\n",
        "\n",
        "print(x>y)"
      ],
      "metadata": {
        "colab": {
          "base_uri": "https://localhost:8080/"
        },
        "id": "lwYtgphccR5u",
        "outputId": "6a3d2a06-dfcf-4ea9-b0ae-1dd0b5e3302c"
      },
      "execution_count": 46,
      "outputs": [
        {
          "output_type": "stream",
          "name": "stdout",
          "text": [
            "True\n"
          ]
        }
      ]
    },
    {
      "cell_type": "code",
      "source": [
        "#Q17. Guess the output:\n",
        "\n",
        "a=10\n",
        "b=20\n",
        "c=30\n",
        "print(a<b and b<c)"
      ],
      "metadata": {
        "colab": {
          "base_uri": "https://localhost:8080/"
        },
        "id": "6af1jk-ZcaVr",
        "outputId": "7b453df1-8fb8-41ff-80e1-d21df0b51d93"
      },
      "execution_count": 47,
      "outputs": [
        {
          "output_type": "stream",
          "name": "stdout",
          "text": [
            "True\n"
          ]
        }
      ]
    },
    {
      "cell_type": "code",
      "source": [
        "#Q18. Guess the output:\n",
        "p=True\n",
        "q=False\n",
        "\n",
        "print(not p or q)"
      ],
      "metadata": {
        "colab": {
          "base_uri": "https://localhost:8080/"
        },
        "id": "k0EpbzAQck_U",
        "outputId": "55518de4-28b5-46be-9ed9-ee27f01f7286"
      },
      "execution_count": 48,
      "outputs": [
        {
          "output_type": "stream",
          "name": "stdout",
          "text": [
            "False\n"
          ]
        }
      ]
    },
    {
      "cell_type": "code",
      "source": [
        "num1=15\n",
        "num2=10\n",
        "\n",
        "print(num1 == num2 or num1 > num2)"
      ],
      "metadata": {
        "colab": {
          "base_uri": "https://localhost:8080/"
        },
        "id": "KaRX-ZVYcxOq",
        "outputId": "6086c0a8-e2c5-4f58-ab77-f82145b66c9c"
      },
      "execution_count": 50,
      "outputs": [
        {
          "output_type": "stream",
          "name": "stdout",
          "text": [
            "True\n"
          ]
        }
      ]
    },
    {
      "cell_type": "code",
      "source": [
        "m=8\n",
        "n=6\n",
        "print( m>=n and n !=m)"
      ],
      "metadata": {
        "colab": {
          "base_uri": "https://localhost:8080/"
        },
        "id": "nzgEIGWJc9uy",
        "outputId": "95512e27-cb96-4593-dddf-1b3d65902a6c"
      },
      "execution_count": 51,
      "outputs": [
        {
          "output_type": "stream",
          "name": "stdout",
          "text": [
            "True\n"
          ]
        }
      ]
    },
    {
      "cell_type": "code",
      "source": [
        "a=5\n",
        "b=5\n",
        "c=10\n",
        "print(a<=b and b!=c)"
      ],
      "metadata": {
        "colab": {
          "base_uri": "https://localhost:8080/"
        },
        "id": "2dJIPwlQdHlW",
        "outputId": "4bf62027-359f-4e3b-ab43-a095fbfa3f74"
      },
      "execution_count": 52,
      "outputs": [
        {
          "output_type": "stream",
          "name": "stdout",
          "text": [
            "True\n"
          ]
        }
      ]
    },
    {
      "cell_type": "code",
      "source": [
        "num=25\n",
        "print(num%2==0)"
      ],
      "metadata": {
        "colab": {
          "base_uri": "https://localhost:8080/"
        },
        "id": "zSc-jFT9dQP3",
        "outputId": "7e3a80c8-88b0-428f-a5bd-c02cfc39318e"
      },
      "execution_count": 53,
      "outputs": [
        {
          "output_type": "stream",
          "name": "stdout",
          "text": [
            "False\n"
          ]
        }
      ]
    }
  ]
}