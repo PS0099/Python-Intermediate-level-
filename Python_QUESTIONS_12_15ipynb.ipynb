{
  "nbformat": 4,
  "nbformat_minor": 0,
  "metadata": {
    "colab": {
      "provenance": []
    },
    "kernelspec": {
      "name": "python3",
      "display_name": "Python 3"
    },
    "language_info": {
      "name": "python"
    }
  },
  "cells": [
    {
      "cell_type": "code",
      "source": [
        "#'''Q12. Write a Python program that takes two numbers as input and\n",
        "#performs the following operations: addition, subtraction, multiplication,\n",
        "#division, and modulus. Display the results.\n",
        "\n",
        "x=int(input(\"Enter the  number 1st:\"))\n",
        "y=int(input(\"Enter the  number 2nd:\"))\n",
        "\n",
        "print(\"Addition is :\", x+y)\n",
        "print(\"Subtraction is :\", x-y)\n",
        "print(\"Multiplication is :\", x*y)\n",
        "print(\"division is :\", x//y)\n",
        "print(\"modulus is :\", x%y)\n"
      ],
      "metadata": {
        "colab": {
          "base_uri": "https://localhost:8080/"
        },
        "id": "AA-TMiqMOuEg",
        "outputId": "87cf040e-8e9d-48a8-f35c-08128ca56097"
      },
      "execution_count": 31,
      "outputs": [
        {
          "output_type": "stream",
          "name": "stdout",
          "text": [
            "Enter the  number 1st:39\n",
            "Enter the  number 2nd:7\n",
            "Addition is : 46\n",
            "Subtraction is : 32\n",
            "Multiplication is : 273\n",
            "division is : 5\n",
            "modulus is : 4\n"
          ]
        }
      ]
    },
    {
      "cell_type": "code",
      "source": [
        "# Input two variables\n",
        "a = int(input(\"Enter value of variable a: \"))\n",
        "b = int(input(\"Enter value of variable b: \"))\n",
        "\n",
        "# Swapping without using a temporary variable\n",
        "a = a + b\n",
        "b = a - b\n",
        "a = a - b\n",
        "\n",
        "# Output swapped values\n",
        "print(\"After swapping:\")\n",
        "print(\"Value of variable a:\", a)\n",
        "print(\"Value of variable b:\", b)\n"
      ],
      "metadata": {
        "colab": {
          "base_uri": "https://localhost:8080/"
        },
        "id": "ezVytgBIQZ70",
        "outputId": "35e63a21-c946-4070-cf8a-9a509693710e"
      },
      "execution_count": 37,
      "outputs": [
        {
          "output_type": "stream",
          "name": "stdout",
          "text": [
            "Enter value of variable a: 44\n",
            "Enter value of variable b: 55\n",
            "After swapping:\n",
            "Value of variable a: 55\n",
            "Value of variable b: 44\n"
          ]
        }
      ]
    },
    {
      "cell_type": "code",
      "source": [
        "#Q14. Write a Python program to calculate the compound interest for a\n",
        "#given principal, rate of interest, and time period. Ask everything from the\n",
        "#user.\n",
        "\n",
        "# Ask the user for input\n",
        "principal = float(input(\"Enter the principal amount: \"))\n",
        "rate_of_interest = float(input(\"Enter the rate of interest (in percentage): \"))\n",
        "time_period = float(input(\"Enter the time period (in years): \"))\n",
        "\n",
        "# Convert rate of interest from percentage to decimal\n",
        "rate_of_interest_decimal = rate_of_interest / 100\n",
        "\n",
        "# Calculate compound interest\n",
        "compound_interest = principal * ((1 + rate_of_interest_decimal) ** time_period - 1)\n",
        "\n",
        "# Output the result\n",
        "print(\"Compound interest:\", compound_interest)\n",
        "z=compound_interest+principal\n",
        "print(\"Total Amount Payble is:\",z)\n"
      ],
      "metadata": {
        "colab": {
          "base_uri": "https://localhost:8080/"
        },
        "id": "wuXp94mZQyDw",
        "outputId": "3fa6ab03-8699-4ef7-9418-c84d9068517a"
      },
      "execution_count": 39,
      "outputs": [
        {
          "output_type": "stream",
          "name": "stdout",
          "text": [
            "Enter the principal amount: 50000\n",
            "Enter the rate of interest (in percentage): 8.65\n",
            "Enter the time period (in years): 10\n",
            "Compound interest: 64621.82286770784\n",
            "Total Amount Payble is: 114621.82286770784\n"
          ]
        }
      ]
    },
    {
      "cell_type": "code",
      "source": [
        "#Q15. Write a Python program that takes the radius of a circle as input and\n",
        "#calculates its area. Use the formula: Area = 3.14 * r^2.\n",
        "\n",
        "r=float(input(\"Enter the Radius of Circle :\"))\n",
        "\n",
        "Area = 3.14*r**2\n",
        "\n",
        "\n",
        "print(f\"Area Of Circle is :{Area:.2f}\")"
      ],
      "metadata": {
        "colab": {
          "base_uri": "https://localhost:8080/"
        },
        "id": "_veQQrbqSuWE",
        "outputId": "a0cbc4e3-8233-42dc-8574-bcfd533bbcc4"
      },
      "execution_count": 45,
      "outputs": [
        {
          "output_type": "stream",
          "name": "stdout",
          "text": [
            "Enter the Radius of Circle :30\n",
            "Area Of Circle is :2826.00\n"
          ]
        }
      ]
    }
  ]
}