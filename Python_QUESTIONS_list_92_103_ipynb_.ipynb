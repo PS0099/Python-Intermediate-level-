{
  "nbformat": 4,
  "nbformat_minor": 0,
  "metadata": {
    "colab": {
      "provenance": []
    },
    "kernelspec": {
      "name": "python3",
      "display_name": "Python 3"
    },
    "language_info": {
      "name": "python"
    }
  },
  "cells": [
    {
      "cell_type": "code",
      "source": [
        "#Q92. Make your own list. Print the list in reverse.\n",
        "l=[4,2,-9,\"ps\",-99,30]\n",
        "print(l[::-1])"
      ],
      "metadata": {
        "colab": {
          "base_uri": "https://localhost:8080/"
        },
        "id": "neS0Y_mZfhue",
        "outputId": "d23a5013-abd1-4dfe-fe99-1a0697e62e2c"
      },
      "execution_count": 1,
      "outputs": [
        {
          "output_type": "stream",
          "name": "stdout",
          "text": [
            "[30, -99, 'ps', -9, 2, 4]\n"
          ]
        }
      ]
    },
    {
      "cell_type": "code",
      "source": [
        "#Q93. Make your own list. Print all the even numbers present in the list.\n",
        "\n",
        "l=[45,85,79,66,12,3,44,77,55,22,18,20,40]\n",
        "even_ele=[]\n",
        "for i in l:\n",
        "  if i%2==0:\n",
        "    even_ele.append(i)\n",
        "print(even_ele)"
      ],
      "metadata": {
        "colab": {
          "base_uri": "https://localhost:8080/"
        },
        "id": "N26coYYGfw87",
        "outputId": "da832f1c-008d-4e53-b007-a451dab5f3f9"
      },
      "execution_count": 2,
      "outputs": [
        {
          "output_type": "stream",
          "name": "stdout",
          "text": [
            "[66, 12, 44, 22, 18, 20, 40]\n"
          ]
        }
      ]
    },
    {
      "cell_type": "code",
      "source": [
        "#Q94. Make your own list. Print all the odd numbers present in the list.\n",
        "l=[45,85,79,66,12,3,44,77,55,22,18,20,40]\n",
        "odd_ele=[]\n",
        "for i in l:\n",
        "  if i%2!=0:\n",
        "    odd_ele.append(i)\n",
        "print(odd_ele)"
      ],
      "metadata": {
        "colab": {
          "base_uri": "https://localhost:8080/"
        },
        "id": "BLRSN6oAgQfl",
        "outputId": "bb436778-9b75-4ce5-fbe1-e39ef2b7000a"
      },
      "execution_count": 3,
      "outputs": [
        {
          "output_type": "stream",
          "name": "stdout",
          "text": [
            "[45, 85, 79, 3, 77, 55]\n"
          ]
        }
      ]
    },
    {
      "cell_type": "code",
      "source": [
        "#Q96. Make your own list. Print the sum of all elements present in that list.\n",
        "l=[45,85,79,66,12,3,44,77,55,22,18,20,40]\n",
        "sum=0\n",
        "for i in l:\n",
        "  sum=sum+i\n",
        "print(sum)\n"
      ],
      "metadata": {
        "colab": {
          "base_uri": "https://localhost:8080/"
        },
        "id": "Q4h9NS2Lgbx9",
        "outputId": "29e7783e-3bc4-442f-fb44-24e82354582c"
      },
      "execution_count": 4,
      "outputs": [
        {
          "output_type": "stream",
          "name": "stdout",
          "text": [
            "566\n"
          ]
        }
      ]
    },
    {
      "cell_type": "code",
      "source": [
        "#Q97. Make your own list. Count the number of even numbers present in\n",
        "#that list.\n",
        "\n",
        "l=[45,85,79,66,12,3,44,77,55,22,18,20,40]\n",
        "\n",
        "count=0\n",
        "\n",
        "for i in l:\n",
        "  if i%2==0:\n",
        "    count=count+1\n",
        "print(count)"
      ],
      "metadata": {
        "colab": {
          "base_uri": "https://localhost:8080/"
        },
        "id": "qHGXbp5ugr1f",
        "outputId": "ba626dbb-e641-4cfc-c326-1894fe8433db"
      },
      "execution_count": 5,
      "outputs": [
        {
          "output_type": "stream",
          "name": "stdout",
          "text": [
            "7\n"
          ]
        }
      ]
    },
    {
      "cell_type": "code",
      "source": [
        "#Q98. Make your own list. Count how many numbers are divisible by both 2\n",
        "#and 5 in that list. (Do on your own)\n",
        "\n",
        "l=[45,85,79,66,12,3,44,77,55,22,18,20,40]\n",
        "\n",
        "count=0\n",
        "\n",
        "for i in l:\n",
        "  if i%2==0 and i%5==0:\n",
        "    count=count+1\n",
        "print(count)"
      ],
      "metadata": {
        "colab": {
          "base_uri": "https://localhost:8080/"
        },
        "id": "NUsR92pmhBFO",
        "outputId": "1442a636-d844-4571-d07a-d438b158d2c5"
      },
      "execution_count": 6,
      "outputs": [
        {
          "output_type": "stream",
          "name": "stdout",
          "text": [
            "2\n"
          ]
        }
      ]
    },
    {
      "cell_type": "code",
      "source": [
        "#Q100. Make your own list. Find the sum of all numbers divisible by 3 or 4.\n",
        "#Do on your own)\n",
        "l=[45,85,79,66,12,3,44,77,55,22,18,20,40]\n",
        "\n",
        "sum=0\n",
        "\n",
        "for i in l:\n",
        "  if i%3==0 and i%4==0:\n",
        "    sum=sum+i\n",
        "print(sum)"
      ],
      "metadata": {
        "colab": {
          "base_uri": "https://localhost:8080/"
        },
        "id": "i6WwFsXehSUB",
        "outputId": "20a142a3-7f90-4035-8e80-b5a8b5df6d25"
      },
      "execution_count": 7,
      "outputs": [
        {
          "output_type": "stream",
          "name": "stdout",
          "text": [
            "12\n"
          ]
        }
      ]
    },
    {
      "cell_type": "code",
      "source": [
        "#Q101. Make your own list. Print how many positive and negative numbers\n",
        "#are here. (Do on your own)\n",
        "l=[45,85,79,66,12,3,44,77,55,22,18,20,40,0,-66,-55,77,1,-9,-1]\n",
        "count_of_positive=0\n",
        "count_of_negative=0\n",
        "\n",
        "for i in l:\n",
        "  if i >=0:\n",
        "    count_of_positive=count_of_positive+1\n",
        "  else:\n",
        "    count_of_negative=count_of_negative+1\n",
        "\n",
        "print(count_of_positive)\n",
        "print(count_of_negative)\n",
        "\n",
        "\n",
        "\n"
      ],
      "metadata": {
        "colab": {
          "base_uri": "https://localhost:8080/"
        },
        "id": "EyB7QtqthsDG",
        "outputId": "92780a4b-f2bf-493d-f05c-d23c150b1087"
      },
      "execution_count": 8,
      "outputs": [
        {
          "output_type": "stream",
          "name": "stdout",
          "text": [
            "16\n",
            "4\n"
          ]
        }
      ]
    },
    {
      "cell_type": "code",
      "source": [
        "#Q102. Make your own list. Print the largest number present in that list.\n",
        "l=[45,85,79,66,12,3,44,77,55,22,18,20,40,0,-66,-55,77,1,-9,-1]\n",
        "\n",
        "print(max(l))\n",
        "\n",
        "print(l[1])"
      ],
      "metadata": {
        "colab": {
          "base_uri": "https://localhost:8080/"
        },
        "id": "-OU6Yl9WilBC",
        "outputId": "6ff212db-a26e-4311-a0b8-0d464ff0ad39"
      },
      "execution_count": 10,
      "outputs": [
        {
          "output_type": "stream",
          "name": "stdout",
          "text": [
            "85\n",
            "85\n"
          ]
        }
      ]
    },
    {
      "cell_type": "code",
      "source": [
        "#Q103. Make your own list. Print the smallest number present in that list.\n",
        "l=[45,85,79,66,12,3,44,77,55,22,18,20,40,0,-66,-55,77,1,-9,-1]\n",
        "\n",
        "print(min(l))\n"
      ],
      "metadata": {
        "colab": {
          "base_uri": "https://localhost:8080/"
        },
        "id": "b0fGh-uejKqj",
        "outputId": "69aff5a9-2a62-41bb-fe05-27ed4546dce4"
      },
      "execution_count": 11,
      "outputs": [
        {
          "output_type": "stream",
          "name": "stdout",
          "text": [
            "-66\n"
          ]
        }
      ]
    }
  ]
}