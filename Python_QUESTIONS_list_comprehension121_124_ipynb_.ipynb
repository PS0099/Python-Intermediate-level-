{
  "nbformat": 4,
  "nbformat_minor": 0,
  "metadata": {
    "colab": {
      "provenance": []
    },
    "kernelspec": {
      "name": "python3",
      "display_name": "Python 3"
    },
    "language_info": {
      "name": "python"
    }
  },
  "cells": [
    {
      "cell_type": "code",
      "source": [
        "#Q121. Generate a list of squares of numbers from 1 to 10 using list\n",
        "#comprehension.\n",
        "\n",
        "l=[i**2 for i in range(1,11)]\n",
        "print(l)"
      ],
      "metadata": {
        "colab": {
          "base_uri": "https://localhost:8080/"
        },
        "id": "kdteWXZmk9Zg",
        "outputId": "51c5cbc5-5b5d-4c75-8559-0835d14dba43"
      },
      "execution_count": 13,
      "outputs": [
        {
          "output_type": "stream",
          "name": "stdout",
          "text": [
            "[1, 4, 9, 16, 25, 36, 49, 64, 81, 100]\n"
          ]
        }
      ]
    },
    {
      "cell_type": "code",
      "source": [
        "#Q122. Given a list of strings, create a new list containing the lengths of\n",
        "#each string using list comprehension.\n",
        "\n",
        "\n",
        "l=[\"prajwal\",\"arvind\",\"shekokar\"]\n",
        "s=[len(i) for i in l]\n",
        "print(s)"
      ],
      "metadata": {
        "colab": {
          "base_uri": "https://localhost:8080/"
        },
        "id": "3QXOeEu4lN-u",
        "outputId": "d759b578-32e6-44a7-e929-0f9bc8c68dd5"
      },
      "execution_count": 15,
      "outputs": [
        {
          "output_type": "stream",
          "name": "stdout",
          "text": [
            "[7, 6, 8]\n"
          ]
        }
      ]
    },
    {
      "cell_type": "code",
      "source": [
        "#Q123. Generate a list of strings where each string repeats itself three times,\n",
        "#using list comprehension.\n",
        "\n",
        "\n",
        "l=['a','b','c']\n",
        "s=[i*3 for i in l]\n",
        "print(s)"
      ],
      "metadata": {
        "colab": {
          "base_uri": "https://localhost:8080/"
        },
        "id": "ixTSTUTzls5W",
        "outputId": "7560c81a-4ae0-4ff2-c87d-dc187cc4250d"
      },
      "execution_count": 17,
      "outputs": [
        {
          "output_type": "stream",
          "name": "stdout",
          "text": [
            "['aaa', 'bbb', 'ccc']\n"
          ]
        }
      ]
    },
    {
      "cell_type": "code",
      "source": [
        "#Q124. Generate a list of list using list comprehension where format should\n",
        "#be [[1, ”ODD”], [2, “EVEN”], [3, ”ODD”]].\n",
        "\n",
        "l=[[i,\"odd\"] if i%2!=0 else [i,\"even\"] for i in range (1,6)]\n",
        "print(l)"
      ],
      "metadata": {
        "colab": {
          "base_uri": "https://localhost:8080/"
        },
        "id": "S9CVHT8Xl9c1",
        "outputId": "9f213ea1-b76b-47a8-d6ee-2b3065bd823a"
      },
      "execution_count": 19,
      "outputs": [
        {
          "output_type": "stream",
          "name": "stdout",
          "text": [
            "[[1, 'odd'], [2, 'even'], [3, 'odd'], [4, 'even'], [5, 'odd']]\n"
          ]
        }
      ]
    }
  ]
}